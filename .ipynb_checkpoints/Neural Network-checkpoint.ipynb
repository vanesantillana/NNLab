{
 "cells": [
  {
   "cell_type": "markdown",
   "metadata": {},
   "source": [
    "## Neural Network"
   ]
  },
  {
   "cell_type": "code",
   "execution_count": 1,
   "metadata": {},
   "outputs": [],
   "source": [
    "import numpy as np\n",
    "import matplotlib.pyplot as mpl\n",
    "from scipy import optimize"
   ]
  },
  {
   "cell_type": "code",
   "execution_count": 2,
   "metadata": {},
   "outputs": [],
   "source": [
    "X = np.loadtxt('xy/x.csv', delimiter=',')\n",
    "Y = np.loadtxt('xy/y.csv', delimiter=',')\n",
    "T1 = np.loadtxt('theta/theta1.csv', delimiter=',')\n",
    "T2 = np.loadtxt('theta/theta2.csv', delimiter=',')"
   ]
  },
  {
   "cell_type": "code",
   "execution_count": 3,
   "metadata": {},
   "outputs": [],
   "source": [
    "def sigmoid(a):\n",
    "    return 1.0 / (1 + np.exp(-a))"
   ]
  },
  {
   "cell_type": "code",
   "execution_count": 4,
   "metadata": {},
   "outputs": [],
   "source": [
    "def precision(res, y):\n",
    "    contador = 0\n",
    "    for i in range(res.shape[0]) :\n",
    "        if ((res[i]+1) == Y[i]):\n",
    "            contador +=1\n",
    "    \n",
    "    return (contador*100.0)/res.shape[0]"
   ]
  },
  {
   "cell_type": "code",
   "execution_count": 5,
   "metadata": {},
   "outputs": [],
   "source": [
    "def init_weight(input_layer, hidden_layer, out_layer):\n",
    "    w1 = np.random.randn(hidden_layer, input_layer) \n",
    "    w2 = np.random.randn(out_layer, hidden_layer )\n",
    "    #w1 = T1\n",
    "    #w2 = T2\n",
    "    return w1,w2"
   ]
  },
  {
   "cell_type": "code",
   "execution_count": 6,
   "metadata": {},
   "outputs": [],
   "source": [
    "#vectorizando Y\n",
    "def create_Y(y, out_size, m):\n",
    "    yn = np.zeros((m, out_size))\n",
    "    for i in range(m):\n",
    "        yn[i][int(y[i])%10] = 1\n",
    "    return yn"
   ]
  },
  {
   "cell_type": "code",
   "execution_count": 7,
   "metadata": {},
   "outputs": [],
   "source": [
    "def compute_cost(a3, Y):\n",
    "    m = Y.shape[0] # 5000\n",
    "    temp = np.sum(Y * np.log(a3) + (1 - Y) * (np.log(1 - a3)), axis=1)\n",
    "    cost = (-1/m) * np.sum(temp, axis=0)\n",
    "    return cost"
   ]
  },
  {
   "cell_type": "code",
   "execution_count": 8,
   "metadata": {},
   "outputs": [],
   "source": [
    "def gradiente_prima(z):\n",
    "    gz = sigmoid(z)\n",
    "    return gz * (1-gz);"
   ]
  },
  {
   "cell_type": "markdown",
   "metadata": {},
   "source": [
    "### Forward"
   ]
  },
  {
   "cell_type": "code",
   "execution_count": 9,
   "metadata": {},
   "outputs": [],
   "source": [
    "def forward(x, t1, t2):\n",
    "    #capa1\n",
    "    a1 = np.c_[np.ones((x.shape[0],1)),x] \n",
    "    #capa2\n",
    "    z2 = np.dot(a1, t1.T)\n",
    "    a2= sigmoid(z2)\n",
    "    a2 = np.c_[np.ones((z2.shape[0],1)),a2] \n",
    "    #capa3\n",
    "    z3 = np.dot(a2,t2.T) \n",
    "    a3 = sigmoid(z3)\n",
    "    \n",
    "    result={'a1': a1, 'a2':a2, 'a3':a3, 'z2':z2, 'z3':z3}    \n",
    "    return result"
   ]
  },
  {
   "cell_type": "markdown",
   "metadata": {},
   "source": [
    "### Compute Gradiente"
   ]
  },
  {
   "cell_type": "code",
   "execution_count": 10,
   "metadata": {},
   "outputs": [],
   "source": [
    "def compute_gradient_reg(ford,t2, y_vec , m):\n",
    "    a1 = ford['a1']\n",
    "    a2 = ford['a2']\n",
    "    a3 = ford['a3']\n",
    "    z2 = ford['z2']\n",
    "    z3 = ford['z3']\n",
    "        \n",
    "    d3 = a3 - y_vec \n",
    "    d2 = np.dot(d3,t2) * gradiente_prima(z2)\n",
    "\n",
    "    delta1 = np.dot(d2.T,a1)\n",
    "    delta2 = np.dot(d3.T,a2) \n",
    "    \n",
    "    grad1 = delta1/m\n",
    "    grad2 = delta2/m\n",
    "        \n",
    "    return grad1,grad2"
   ]
  },
  {
   "cell_type": "code",
   "execution_count": 11,
   "metadata": {},
   "outputs": [],
   "source": [
    "def session(x, y, hidden_layer, iterations):\n",
    "    input_layer = x.shape[1]+1\n",
    "    out_layer = y.shape[1] \n",
    "    m = x.shape[0]\n",
    "    rate = 1.5\n",
    "    \n",
    "    w1,w2 = init_weight(input_layer, hidden_layer, out_layer)\n",
    "    \n",
    "    for i in range(iterations):\n",
    "        ford = forward(x, w1, w2)\n",
    "        cost = compute_cost(ford['a3'], y) \n",
    "        grad1,grad2 = compute_gradient_reg(ford, w2, y,m) #backward\n",
    "        \n",
    "        w1 = w1 - rate * grad1\n",
    "        w2 = w2 - rate * grad2\n",
    "        \n",
    "        if i % 100 == 0:\n",
    "            print (i,\" iteracion con costo: \",cost)\n",
    "\n",
    "    return w1,w2"
   ]
  },
  {
   "cell_type": "code",
   "execution_count": 14,
   "metadata": {},
   "outputs": [
    {
     "name": "stdout",
     "output_type": "stream",
     "text": [
      "0  iteracion con costo:  11.132199373933368\n",
      "100  iteracion con costo:  1.2571038501941985\n",
      "200  iteracion con costo:  0.9185418425100625\n",
      "300  iteracion con costo:  0.7525068829034041\n",
      "400  iteracion con costo:  0.6454168577521272\n",
      "500  iteracion con costo:  0.5732943025421231\n",
      "600  iteracion con costo:  0.5190874406101157\n",
      "700  iteracion con costo:  0.4762234157931002\n",
      "800  iteracion con costo:  0.44102336843487167\n",
      "900  iteracion con costo:  0.41160008105509155\n",
      "1000  iteracion con costo:  0.38651860746988526\n",
      "1100  iteracion con costo:  0.364640843721215\n",
      "1200  iteracion con costo:  0.345185315474391\n",
      "1300  iteracion con costo:  0.32768661753082323\n",
      "1400  iteracion con costo:  0.3119774195763789\n",
      "1500  iteracion con costo:  0.2978856111090736\n",
      "1600  iteracion con costo:  0.28515966813326843\n",
      "1700  iteracion con costo:  0.2735718975841055\n",
      "1800  iteracion con costo:  0.2629387104844134\n",
      "1900  iteracion con costo:  0.2531216865536504\n"
     ]
    }
   ],
   "source": [
    "Y_vec = create_Y(Y, 10, X.shape[0])\n",
    "W1,W2 = session(X, Y_vec, 25,3000)"
   ]
  },
  {
   "cell_type": "code",
   "execution_count": 15,
   "metadata": {},
   "outputs": [],
   "source": [
    "ford = forward(X, W1, W2)\n",
    "out = ford['a3']"
   ]
  },
  {
   "cell_type": "code",
   "execution_count": 16,
   "metadata": {},
   "outputs": [
    {
     "name": "stdout",
     "output_type": "stream",
     "text": [
      "[[493.   0.   1.   1.   0.   1.   3.   1.   1.   0.]\n",
      " [  1. 480.   6.   1.   2.   0.   2.   0.   1.   0.]\n",
      " [  3.   2. 474.   0.   4.   0.   0.   2.   3.   0.]\n",
      " [  1.   2.   0. 487.   2.   1.   2.   0.   1.   1.]\n",
      " [  1.   2.   8.   0. 483.   4.   0.   1.   1.   0.]\n",
      " [  0.   1.   0.   1.   3. 492.   0.   1.   0.   1.]\n",
      " [  0.   5.   4.   1.   0.   0. 490.   1.   4.   0.]\n",
      " [  1.   5.   5.   0.   2.   0.   0. 494.   4.   0.]\n",
      " [  0.   2.   2.   9.   1.   0.   2.   0. 483.   0.]\n",
      " [  0.   1.   0.   0.   3.   2.   1.   0.   2. 498.]]\n"
     ]
    }
   ],
   "source": [
    "matrix_cross = np.zeros((10,10))\n",
    "result = np.argmax(out,axis=1).T #prediccion\n",
    "            \n",
    "for i in range(len(result)):\n",
    "    k = int(Y[i]-1) #valores reales\n",
    "    l = int(result[i]-1) #valores predicho\n",
    "    matrix_cross[l][k] += 1\n",
    "    \n",
    "print(matrix_cross)"
   ]
  }
 ],
 "metadata": {
  "kernelspec": {
   "display_name": "Python 3",
   "language": "python",
   "name": "python3"
  },
  "language_info": {
   "codemirror_mode": {
    "name": "ipython",
    "version": 3
   },
   "file_extension": ".py",
   "mimetype": "text/x-python",
   "name": "python",
   "nbconvert_exporter": "python",
   "pygments_lexer": "ipython3",
   "version": "3.6.4"
  }
 },
 "nbformat": 4,
 "nbformat_minor": 2
}

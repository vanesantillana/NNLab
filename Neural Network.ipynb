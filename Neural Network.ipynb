{
 "cells": [
  {
   "cell_type": "markdown",
   "metadata": {},
   "source": [
    "## Neural Network"
   ]
  },
  {
   "cell_type": "code",
   "execution_count": 51,
   "metadata": {},
   "outputs": [],
   "source": [
    "import numpy as np\n",
    "import pandas as pd\n",
    "import matplotlib.pyplot as mpl\n",
    "from scipy import optimize\n",
    "import itertools\n",
    "import math"
   ]
  },
  {
   "cell_type": "code",
   "execution_count": 52,
   "metadata": {},
   "outputs": [],
   "source": [
    "X = np.loadtxt('xy/x.csv', delimiter=',')\n",
    "Y = np.loadtxt('xy/y.csv', delimiter=',')\n",
    "T1 = np.loadtxt('theta/theta1.csv', delimiter=',')\n",
    "T2 = np.loadtxt('theta/theta2.csv', delimiter=',')"
   ]
  },
  {
   "cell_type": "code",
   "execution_count": 53,
   "metadata": {},
   "outputs": [],
   "source": [
    "def sigmoid(a):\n",
    "    return 1.0 / (1 + np.exp(-a))"
   ]
  },
  {
   "cell_type": "code",
   "execution_count": 54,
   "metadata": {},
   "outputs": [],
   "source": [
    "def precision(res, y):\n",
    "    contador = 0\n",
    "    for i in range(res.shape[0]) :\n",
    "        if (res[i] == Y[i]):\n",
    "            contador +=1\n",
    "    \n",
    "    return (contador*100.0)/res.shape[0]"
   ]
  },
  {
   "cell_type": "code",
   "execution_count": 55,
   "metadata": {},
   "outputs": [],
   "source": [
    "def init_weight(input_layer, hidden_layer, out_layer):\n",
    "    w1 = np.random.randn(hidden_layer, input_layer) \n",
    "    w2 = np.random.randn(out_layer, hidden_layer )\n",
    "    #w1 = T1\n",
    "    #w2 = T2\n",
    "    return w1,w2"
   ]
  },
  {
   "cell_type": "code",
   "execution_count": 56,
   "metadata": {},
   "outputs": [],
   "source": [
    "#vectorizando Y\n",
    "def create_Y(y, out_size, m):\n",
    "    yn = np.zeros((m, out_size))\n",
    "    for i in range(m):\n",
    "        yn[i][int(y[i])%10] = 1\n",
    "    return yn"
   ]
  },
  {
   "cell_type": "code",
   "execution_count": 57,
   "metadata": {},
   "outputs": [],
   "source": [
    "def compute_cost(a3, Y):\n",
    "    m = Y.shape[0] # 5000\n",
    "    temp = np.sum(Y * np.log(a3) + (1 - Y) * (np.log(1 - a3)), axis=1)\n",
    "    cost = (-1/m) * np.sum(temp, axis=0)\n",
    "    return cost"
   ]
  },
  {
   "cell_type": "code",
   "execution_count": 58,
   "metadata": {},
   "outputs": [],
   "source": [
    "def gradiente_prima(z):\n",
    "    gz = sigmoid(z)\n",
    "    return gz * (1-gz);"
   ]
  },
  {
   "cell_type": "code",
   "execution_count": 59,
   "metadata": {},
   "outputs": [],
   "source": [
    "def matrix_conf(y_, y_pre, val):\n",
    "    matrix = np.zeros((val,val))\n",
    "    for i in range(result.shape[0]):\n",
    "        k = int(y_[i]-1) #valores reales\n",
    "        l = int(y_pre[i]-1) #valores predichos\n",
    "        matrix[l][k] += 1\n",
    "    return matrix"
   ]
  },
  {
   "cell_type": "markdown",
   "metadata": {},
   "source": [
    "### Forward"
   ]
  },
  {
   "cell_type": "code",
   "execution_count": 60,
   "metadata": {},
   "outputs": [],
   "source": [
    "def forward(x, t1, t2):\n",
    "    #capa1\n",
    "    a1 = np.c_[np.ones((x.shape[0],1)),X] \n",
    "    #capa2\n",
    "    z2 = np.dot(a1, t1.T)\n",
    "    a2= sigmoid(z2)\n",
    "    #capa3\n",
    "    z3 = np.dot(a2,t2.T) \n",
    "    a3 = sigmoid(z3)\n",
    "    \n",
    "    result={'a1': a1, 'a2':a2, 'a3':a3, 'z2':z2, 'z3':z3}    \n",
    "    return result"
   ]
  },
  {
   "cell_type": "markdown",
   "metadata": {},
   "source": [
    "### Compute Gradiente"
   ]
  },
  {
   "cell_type": "code",
   "execution_count": 61,
   "metadata": {},
   "outputs": [],
   "source": [
    "def compute_gradient_reg(ford,t2, y_vec , m):\n",
    "    a1 = ford['a1']\n",
    "    a2 = ford['a2']\n",
    "    a3 = ford['a3']\n",
    "    z2 = ford['z2']\n",
    "    z3 = ford['z3']\n",
    "        \n",
    "    d3 = a3 - y_vec \n",
    "    d2 = np.dot(d3,t2) * gradiente_prima(z2)\n",
    "\n",
    "    delta1 = np.dot(d2.T,a1)\n",
    "    delta2 = np.dot(d3.T,a2) \n",
    "    \n",
    "    grad1 = delta1/m\n",
    "    grad2 = delta2/m\n",
    "        \n",
    "    return grad1,grad2"
   ]
  },
  {
   "cell_type": "code",
   "execution_count": 62,
   "metadata": {},
   "outputs": [],
   "source": [
    "def session(x, y, hidden_layer, iterations):\n",
    "    input_layer = x.shape[1]+1\n",
    "    out_layer = y.shape[1] \n",
    "    m = x.shape[0]\n",
    "    rate = 1.5\n",
    "    \n",
    "    w1,w2 = init_weight(input_layer, hidden_layer, out_layer)\n",
    "    \n",
    "    for i in range(iterations):\n",
    "        ford = forward(x, w1, w2)\n",
    "        cost = compute_cost(ford['a3'], y) \n",
    "        grad1,grad2 = compute_gradient_reg(ford, w2, y,m) #backward\n",
    "        \n",
    "        w1 = w1 - rate * grad1\n",
    "        w2 = w2 - rate * grad2\n",
    "        \n",
    "        if i % 100 == 0:\n",
    "            print (i,\" iteracion con costo: \",cost)\n",
    "\n",
    "    return w1,w2"
   ]
  },
  {
   "cell_type": "code",
   "execution_count": 71,
   "metadata": {},
   "outputs": [
    {
     "name": "stdout",
     "output_type": "stream",
     "text": [
      "0  iteracion con costo:  19.959507398616324\n",
      "100  iteracion con costo:  1.4429684341072346\n",
      "200  iteracion con costo:  1.0047877014138822\n",
      "300  iteracion con costo:  0.8024058086994701\n",
      "400  iteracion con costo:  0.6877416044434603\n",
      "500  iteracion con costo:  0.613109117727647\n",
      "600  iteracion con costo:  0.5592220509819316\n",
      "700  iteracion con costo:  0.5172172031290916\n",
      "800  iteracion con costo:  0.4829660383065566\n",
      "900  iteracion con costo:  0.45405757840469363\n",
      "1000  iteracion con costo:  0.42905486309503277\n",
      "1100  iteracion con costo:  0.40710401013167224\n",
      "1200  iteracion con costo:  0.3876616479399461\n",
      "1300  iteracion con costo:  0.3703709267366473\n",
      "1400  iteracion con costo:  0.354894971205995\n",
      "1500  iteracion con costo:  0.3408728791149796\n",
      "1600  iteracion con costo:  0.32798871089308984\n",
      "1700  iteracion con costo:  0.3160404701564948\n",
      "1800  iteracion con costo:  0.30499049459475863\n",
      "1900  iteracion con costo:  0.29474446640954316\n",
      "2000  iteracion con costo:  0.2851073881767493\n",
      "2100  iteracion con costo:  0.27589704896985395\n",
      "2200  iteracion con costo:  0.2670900288642961\n",
      "2300  iteracion con costo:  0.2587699192586771\n",
      "2400  iteracion con costo:  0.25089920482716926\n",
      "2500  iteracion con costo:  0.24342151914233573\n",
      "2600  iteracion con costo:  0.23629715490717046\n",
      "2700  iteracion con costo:  0.22949467842730706\n",
      "2800  iteracion con costo:  0.2229938451374163\n",
      "2900  iteracion con costo:  0.21678860990322005\n",
      "3000  iteracion con costo:  0.21086609346197108\n"
     ]
    }
   ],
   "source": [
    "Y_vec = create_Y(Y, 10, X.shape[0])\n",
    "W1,W2 = session(X, Y_vec, 25,3001)"
   ]
  },
  {
   "cell_type": "code",
   "execution_count": 65,
   "metadata": {},
   "outputs": [],
   "source": [
    "ford = forward(X, W1, W2)\n",
    "out = ford['a3']"
   ]
  },
  {
   "cell_type": "code",
   "execution_count": 66,
   "metadata": {},
   "outputs": [
    {
     "data": {
      "text/plain": [
       "array([[490.,   3.,   3.,   4.,   2.,   1.,   6.,   1.,   3.,   0.],\n",
       "       [  1., 463.,   7.,   2.,   1.,   2.,   3.,  11.,   3.,   0.],\n",
       "       [  1.,   3., 462.,   1.,  11.,   0.,   1.,   6.,   6.,   1.],\n",
       "       [  1.,   9.,   1., 478.,   3.,   2.,   5.,   2.,   5.,   1.],\n",
       "       [  4.,   1.,  11.,   1., 462.,   6.,   1.,   6.,   2.,   1.],\n",
       "       [  0.,   3.,   2.,   2.,   8., 486.,   0.,   2.,   0.,   1.],\n",
       "       [  1.,   4.,   5.,   0.,   0.,   0., 476.,   0.,   8.,   1.],\n",
       "       [  2.,  10.,   5.,   1.,   6.,   2.,   0., 464.,   3.,   0.],\n",
       "       [  0.,   0.,   4.,  11.,   4.,   0.,   4.,   6., 467.,   0.],\n",
       "       [  0.,   4.,   0.,   0.,   3.,   1.,   4.,   2.,   3., 495.]])"
      ]
     },
     "execution_count": 66,
     "metadata": {},
     "output_type": "execute_result"
    }
   ],
   "source": [
    "Y_pre = np.argmax(out,axis=1).T \n",
    "matrix_conf(Y,Y_pre,10)"
   ]
  },
  {
   "cell_type": "code",
   "execution_count": 67,
   "metadata": {},
   "outputs": [
    {
     "data": {
      "text/plain": [
       "84.96"
      ]
     },
     "execution_count": 67,
     "metadata": {},
     "output_type": "execute_result"
    }
   ],
   "source": [
    "precision(Y_pre,Y)"
   ]
  },
  {
   "cell_type": "markdown",
   "metadata": {},
   "source": [
    "### Matrix Confusion"
   ]
  },
  {
   "cell_type": "code",
   "execution_count": 68,
   "metadata": {},
   "outputs": [],
   "source": [
    "def plot_confusion_matrix(cm, classes,\n",
    "                          normalize=False,\n",
    "                          title='Confusion matrix',\n",
    "                          cmap=mpl.cm.Blues):\n",
    "    if normalize:\n",
    "        cm = cm.astype('float') / cm.sum(axis=1)[:, np.newaxis]\n",
    "        \n",
    "    mpl.imshow(cm, interpolation='nearest', cmap=cmap)\n",
    "    mpl.title(title)\n",
    "    mpl.colorbar()\n",
    "    tick_marks = np.arange(len(classes))\n",
    "    mpl.xticks(tick_marks, classes, rotation=45)\n",
    "    mpl.yticks(tick_marks, classes)\n",
    "\n",
    "    fmt = '.2f' if normalize else 'd'\n",
    "    thresh = cm.max() / 2.\n",
    "    for i, j in itertools.product(range(cm.shape[0]), range(cm.shape[1])):\n",
    "        mpl.text(j, i, format(cm[i, j], fmt),\n",
    "                 horizontalalignment=\"center\",\n",
    "                 color=\"white\" if cm[i, j] > thresh else \"black\")\n",
    "\n",
    "    mpl.tight_layout()\n",
    "    mpl.ylabel('Valores Calculados')\n",
    "    mpl.xlabel('Valores Reales')"
   ]
  },
  {
   "cell_type": "code",
   "execution_count": 69,
   "metadata": {},
   "outputs": [
    {
     "data": {
      "image/png": "[encoded data removed]",
      "text/plain": [
       "<matplotlib.figure.Figure at 0x7f4a420f5400>"
      ]
     },
     "metadata": {},
     "output_type": "display_data"
    }
   ],
   "source": [
    "mat = np.zeros((10,10),dtype=int)\n",
    "result = np.argmax(out,axis=1).T #prediccion\n",
    "def conf_matr():\n",
    "    for i in range(len(result)):\n",
    "        k = int(Y[i]-1) #valores reales\n",
    "        l = int(result[i]-1) #valores predicho\n",
    "        mat[l][k] += 1        \n",
    "    names=['1', '2', '3', '4', '5', '6', '7', '8', '9', '10']\n",
    "    \n",
    "    mpl.figure()\n",
    "    plot_confusion_matrix(mat, classes=names,\n",
    "                          title='Matriz de confusion')\n",
    "    \n",
    "  #  mpl.figure()\n",
    "  #  plot_confusion_matrix(mat, classes=names, normalize=True,\n",
    "                          #title='Matriz de confusion normalizada')\n",
    "    \n",
    "conf_matr()"
   ]
  },
  {
   "cell_type": "code",
   "execution_count": 70,
   "metadata": {},
   "outputs": [
    {
     "name": "stdout",
     "output_type": "stream",
     "text": [
      "    Precision  Recall  F1 score\n",
      "1    0.955166   0.980  0.967423\n",
      "2    0.939148   0.926  0.932528\n",
      "3    0.939024   0.924  0.931452\n",
      "4    0.942801   0.956  0.949355\n",
      "5    0.933333   0.924  0.928643\n",
      "6    0.964286   0.972  0.968127\n",
      "7    0.961616   0.952  0.956784\n",
      "8    0.941176   0.928  0.934542\n",
      "9    0.941532   0.934  0.937751\n",
      "10   0.966797   0.990  0.978261\n"
     ]
    }
   ],
   "source": [
    "fn=500\n",
    "rpta=np.zeros((10,3))\n",
    "fp = np.sum(mat, axis=1)\n",
    "\n",
    "for i in range(10):\n",
    "    rpta[i,0]= mat[i][i]/fp[i]\n",
    "    rpta[i,1]= mat[i][i]/fn\n",
    "    rpta[i,2]= 2*(rpta[i,0]*rpta[i,1])/(rpta[i,0]+rpta[i,1])\n",
    "    \n",
    "    \n",
    "data = pd.DataFrame(rpta,columns=['Precision','Recall','F1 score'],index=['1','2','3','4','5','6','7','8','9','10'])\n",
    "print (data)\n"
   ]
  },
  {
   "cell_type": "code",
   "execution_count": 38,
   "metadata": {},
   "outputs": [],
   "source": []
  }
 ],
 "metadata": {
  "kernelspec": {
   "display_name": "Python 3",
   "language": "python",
   "name": "python3"
  },
  "language_info": {
   "codemirror_mode": {
    "name": "ipython",
    "version": 3
   },
   "file_extension": ".py",
   "mimetype": "text/x-python",
   "name": "python",
   "nbconvert_exporter": "python",
   "pygments_lexer": "ipython3",
   "version": "3.6.4"
  }
 },
 "nbformat": 4,
 "nbformat_minor": 2
}

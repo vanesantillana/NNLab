{
 "cells": [
  {
   "cell_type": "markdown",
   "metadata": {},
   "source": [
    "## Neural Network"
   ]
  },
  {
   "cell_type": "code",
   "execution_count": 1,
   "metadata": {},
   "outputs": [],
   "source": [
    "import numpy as np\n",
    "import pandas as pd\n",
    "import matplotlib.pyplot as mpl\n",
    "from scipy import optimize\n",
    "import itertools\n",
    "import math\n",
    "\n"
   ]
  },
  {
   "cell_type": "code",
   "execution_count": 2,
   "metadata": {},
   "outputs": [],
   "source": [
    "X = np.loadtxt('xy/x.csv', delimiter=',')\n",
    "Y = np.loadtxt('xy/y.csv', delimiter=',')\n",
    "T1 = np.loadtxt('theta/theta1.csv', delimiter=',')\n",
    "T2 = np.loadtxt('theta/theta2.csv', delimiter=',')"
   ]
  },
  {
   "cell_type": "code",
   "execution_count": 3,
   "metadata": {},
   "outputs": [],
   "source": [
    "def sigmoid(a):\n",
    "    return 1.0 / (1 + np.exp(-a))"
   ]
  },
  {
   "cell_type": "code",
   "execution_count": 4,
   "metadata": {},
   "outputs": [],
   "source": [
    "def precision(res, y):\n",
    "    contador = 0\n",
    "    for i in range(res.shape[0]) :\n",
    "        if ((res[i]+1) == Y[i]):\n",
    "            contador +=1\n",
    "    \n",
    "    return (contador*100.0)/res.shape[0]"
   ]
  },
  {
   "cell_type": "code",
   "execution_count": 5,
   "metadata": {},
   "outputs": [],
   "source": [
    "def init_weight(input_layer, hidden_layer, out_layer):\n",
    "    w1 = np.random.randn(hidden_layer, input_layer) \n",
    "    w2 = np.random.randn(out_layer, hidden_layer )\n",
    "    #w1 = T1\n",
    "    #w2 = T2\n",
    "    return w1,w2"
   ]
  },
  {
   "cell_type": "code",
   "execution_count": 6,
   "metadata": {},
   "outputs": [],
   "source": [
    "#vectorizando Y\n",
    "def create_Y(y, out_size, m):\n",
    "    yn = np.zeros((m, out_size))\n",
    "    for i in range(m):\n",
    "        yn[i][int(y[i])%10] = 1\n",
    "    return yn"
   ]
  },
  {
   "cell_type": "code",
   "execution_count": 7,
   "metadata": {},
   "outputs": [],
   "source": [
    "def compute_cost(a3, Y):\n",
    "    m = Y.shape[0] # 5000\n",
    "    temp = np.sum(Y * np.log(a3) + (1 - Y) * (np.log(1 - a3)), axis=1)\n",
    "    cost = (-1/m) * np.sum(temp, axis=0)\n",
    "    return cost"
   ]
  },
  {
   "cell_type": "code",
   "execution_count": 8,
   "metadata": {},
   "outputs": [],
   "source": [
    "def gradiente_prima(z):\n",
    "    gz = sigmoid(z)\n",
    "    return gz * (1-gz);"
   ]
  },
  {
   "cell_type": "markdown",
   "metadata": {},
   "source": [
    "### Forward"
   ]
  },
  {
   "cell_type": "code",
   "execution_count": 9,
   "metadata": {},
   "outputs": [],
   "source": [
    "def forward(x, t1, t2):\n",
    "    #capa1\n",
    "    a1 = np.c_[np.ones((x.shape[0],1)),X] \n",
    "    #capa2\n",
    "    z2 = np.dot(a1, t1.T)\n",
    "    a2= sigmoid(z2)\n",
    "    #capa3\n",
    "    z3 = np.dot(a2,t2.T) \n",
    "    a3 = sigmoid(z3)\n",
    "    \n",
    "    result={'a1': a1, 'a2':a2, 'a3':a3, 'z2':z2, 'z3':z3}    \n",
    "    return result"
   ]
  },
  {
   "cell_type": "markdown",
   "metadata": {},
   "source": [
    "### Compute Gradiente"
   ]
  },
  {
   "cell_type": "code",
   "execution_count": 10,
   "metadata": {},
   "outputs": [],
   "source": [
    "def compute_gradient_reg(ford,t2, y_vec , m):\n",
    "    a1 = ford['a1']\n",
    "    a2 = ford['a2']\n",
    "    a3 = ford['a3']\n",
    "    z2 = ford['z2']\n",
    "    z3 = ford['z3']\n",
    "        \n",
    "    d3 = a3 - y_vec \n",
    "    d2 = np.dot(d3,t2) * gradiente_prima(z2)\n",
    "\n",
    "    delta1 = np.dot(d2.T,a1)\n",
    "    delta2 = np.dot(d3.T,a2) \n",
    "    \n",
    "    grad1 = delta1/m\n",
    "    grad2 = delta2/m\n",
    "        \n",
    "    return grad1,grad2"
   ]
  },
  {
   "cell_type": "code",
   "execution_count": 11,
   "metadata": {},
   "outputs": [],
   "source": [
    "def session(x, y, hidden_layer, iterations):\n",
    "    input_layer = x.shape[1]+1\n",
    "    out_layer = y.shape[1] \n",
    "    m = x.shape[0]\n",
    "    rate = 1.5\n",
    "    \n",
    "    w1,w2 = init_weight(input_layer, hidden_layer, out_layer)\n",
    "    \n",
    "    for i in range(iterations):\n",
    "        ford = forward(x, w1, w2)\n",
    "        cost = compute_cost(ford['a3'], y) \n",
    "        grad1,grad2 = compute_gradient_reg(ford, w2, y,m) #backward\n",
    "        \n",
    "        w1 = w1 - rate * grad1\n",
    "        w2 = w2 - rate * grad2\n",
    "        \n",
    "        if i % 100 == 0:\n",
    "            print (i,\" iteracion con costo: \",cost)\n",
    "\n",
    "    return w1,w2"
   ]
  },
  {
   "cell_type": "code",
   "execution_count": 12,
   "metadata": {},
   "outputs": [
    {
     "name": "stdout",
     "output_type": "stream",
     "text": [
      "0  iteracion con costo:  13.649989715328836\n",
      "100  iteracion con costo:  1.2414866560429845\n",
      "200  iteracion con costo:  0.873640341334444\n",
      "300  iteracion con costo:  0.7057606187208306\n",
      "400  iteracion con costo:  0.6085411305457178\n",
      "500  iteracion con costo:  0.5419639131816915\n",
      "600  iteracion con costo:  0.49228705702573755\n",
      "700  iteracion con costo:  0.45294543101654544\n",
      "800  iteracion con costo:  0.4201783295324929\n",
      "900  iteracion con costo:  0.3917796645605069\n"
     ]
    }
   ],
   "source": [
    "Y_vec = create_Y(Y, 10, X.shape[0])\n",
    "W1,W2 = session(X, Y_vec, 25,1000)"
   ]
  },
  {
   "cell_type": "code",
   "execution_count": 35,
   "metadata": {},
   "outputs": [
    {
     "data": {
      "text/plain": [
       "array([[9.99734275e-01, 1.51780178e-06, 3.41464231e-03, ...,\n",
       "        4.38391341e-05, 9.74961943e-07, 1.63562715e-04],\n",
       "       [9.99015302e-01, 8.05839954e-06, 2.91112616e-04, ...,\n",
       "        3.38704357e-04, 8.07882701e-07, 3.98037454e-04],\n",
       "       [9.97800884e-01, 6.82975023e-06, 1.32112512e-04, ...,\n",
       "        2.47637509e-06, 2.68856627e-03, 3.32114709e-03],\n",
       "       ...,\n",
       "       [1.47292169e-08, 1.74748867e-03, 9.48475581e-05, ...,\n",
       "        1.22550676e-03, 1.46589500e-02, 9.86563468e-01],\n",
       "       [8.84686459e-08, 2.96727582e-06, 1.65571609e-06, ...,\n",
       "        6.34051532e-06, 5.74909869e-03, 9.77171415e-01],\n",
       "       [2.59220962e-03, 4.63195044e-08, 5.76456504e-04, ...,\n",
       "        3.04826751e-04, 6.97743351e-03, 9.32505886e-01]])"
      ]
     },
     "execution_count": 35,
     "metadata": {},
     "output_type": "execute_result"
    }
   ],
   "execution_count": 15,
   "metadata": {},
   "outputs": [],
   "source": [
    "ford = forward(X, W1, W2)\n",
    "out = ford['a3']"
   ]
  },
  {
   "cell_type": "code",
   "execution_count": 16,
   "metadata": {},
   "outputs": [],
   "source": [
    "def plot_confusion_matrix(cm, classes,\n",
    "                          normalize=False,\n",
    "                          title='Confusion matrix',\n",
    "                          cmap=mpl.cm.Blues):\n",
    "    if normalize:\n",
    "        cm = cm.astype('float') / cm.sum(axis=1)[:, np.newaxis]\n",
    "        \n",
    "    mpl.imshow(cm, interpolation='nearest', cmap=cmap)\n",
    "    mpl.title(title)\n",
    "    mpl.colorbar()\n",
    "    tick_marks = np.arange(len(classes))\n",
    "    mpl.xticks(tick_marks, classes, rotation=45)\n",
    "    mpl.yticks(tick_marks, classes)\n",
    "\n",
    "    fmt = '.2f' if normalize else 'd'\n",
    "    thresh = cm.max() / 2.\n",
    "    for i, j in itertools.product(range(cm.shape[0]), range(cm.shape[1])):\n",
    "        mpl.text(j, i, format(cm[i, j], fmt),\n",
    "                 horizontalalignment=\"center\",\n",
    "                 color=\"white\" if cm[i, j] > thresh else \"black\")\n",
    "\n",
    "    mpl.tight_layout()\n",
    "    mpl.ylabel('Valores Calculados')\n",
    "    mpl.xlabel('Valores Reales')"
   ]
  },
  {
   "cell_type": "code",
   "execution_count": 17,
   "metadata": {},
   "outputs": [
    {
     "data": {
      "image/png": "[encoded data removed]",
      "text/plain": [
       "<matplotlib.figure.Figure at 0x7fa644057208>"
      ]
     },
     "metadata": {},
     "output_type": "display_data"
    }
   ],
   "source": [
    "mat = np.zeros((10,10),dtype=int)\n",
    "result = np.argmax(out,axis=1).T #prediccion\n",
    "def conf_matr():\n",
    "    for i in range(len(result)):\n",
    "        k = int(Y[i]-1) #valores reales\n",
    "        l = int(result[i]-1) #valores predicho\n",
    "        mat[l][k] += 1        \n",
    "    names=['1', '2', '3', '4', '5', '6', '7', '8', '9', '10']\n",
    "    \n",
    "    mpl.figure()\n",
    "    plot_confusion_matrix(mat, classes=names,\n",
    "                          title='Matriz de confusion')\n",
    "    \n",
    "  #  mpl.figure()\n",
    "  #  plot_confusion_matrix(mat, classes=names, normalize=True,\n",
    "                          #title='Matriz de confusion normalizada')\n",
    "    \n",
    "conf_matr()"
   ]
  },
  {
   "cell_type": "code",
   "execution_count": 18,
   "metadata": {},
   "outputs": [
    {
     "name": "stdout",
     "output_type": "stream",
     "text": [
      "    Precision  Recall  F1 score\n",
      "1    0.972167   0.978  0.975075\n",
      "2    0.949597   0.942  0.945783\n",
      "3    0.951020   0.932  0.941414\n",
      "4    0.957916   0.956  0.956957\n",
      "5    0.942000   0.942  0.942000\n",
      "6    0.949119   0.970  0.959446\n",
      "7    0.951515   0.942  0.946734\n",
      "8    0.953535   0.944  0.948744\n",
      "9    0.934524   0.942  0.938247\n",
      "10   0.974359   0.988  0.981132\n"
     ]
    }
   ],
   "source": [
    "fn=500\n",
    "rpta=np.zeros((10,3))\n",
    "fp = np.sum(mat, axis=1)\n",
    "\n",
    "for i in range(10):\n",
    "    rpta[i,0]= mat[i][i]/fp[i]\n",
    "    rpta[i,1]= mat[i][i]/fn\n",
    "    rpta[i,2]= 2*(rpta[i,0]*rpta[i,1])/(rpta[i,0]+rpta[i,1])\n",
    "    \n",
    "    \n",
    "data = pd.DataFrame(rpta,columns=['Precision','Recall','F1 score'],index=['1','2','3','4','5','6','7','8','9','10'])\n",
    "print (data)\n"
   ]
  },
  {
   "cell_type": "code",
   "execution_count": 38,
   "metadata": {},
   "outputs": [],
   "source": []
  }
 ],
 "metadata": {
  "kernelspec": {
   "display_name": "Python 3",
   "language": "python",
   "name": "python3"
  },
  "language_info": {
   "codemirror_mode": {
    "name": "ipython",
    "version": 3
   },
   "file_extension": ".py",
   "mimetype": "text/x-python",
   "name": "python",
   "nbconvert_exporter": "python",
   "pygments_lexer": "ipython3",
   "version": "3.6.4"
  }
 },
 "nbformat": 4,
 "nbformat_minor": 2
}

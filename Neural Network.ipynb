{
 "cells": [
  {
   "cell_type": "markdown",
   "metadata": {},
   "source": [
    "## Neural Network"
   ]
  },
  {
   "cell_type": "code",
   "execution_count": 1,
   "metadata": {},
   "outputs": [],
   "source": [
    "import numpy as np\n",
    "import matplotlib.pyplot as mpl\n",
    "from scipy import optimize"
   ]
  },
  {
   "cell_type": "code",
   "execution_count": 2,
   "metadata": {},
   "outputs": [],
   "source": [
    "X = np.loadtxt('xy/x.csv', delimiter=',')\n",
    "Y = np.loadtxt('xy/y.csv', delimiter=',')\n",
    "T1 = np.loadtxt('theta/theta1.csv', delimiter=',')\n",
    "T2 = np.loadtxt('theta/theta2.csv', delimiter=',')"
   ]
  },
  {
   "cell_type": "code",
   "execution_count": 3,
   "metadata": {},
   "outputs": [],
   "source": [
    "def sigmoid(a):\n",
    "    return 1.0 / (1 + np.exp(-a))"
   ]
  },
  {
   "cell_type": "code",
   "execution_count": 4,
   "metadata": {},
   "outputs": [],
   "source": [
    "def porcent(res, y):\n",
    "    contador = 0\n",
    "    for i in range(res.shape[0]) :\n",
    "        if ((res[i]) == Y[i]):\n",
    "            contador +=1\n",
    "    \n",
    "    return (contador*100.0)/res.shape[0]"
   ]
  },
  {
   "cell_type": "code",
   "execution_count": 5,
   "metadata": {},
   "outputs": [],
   "source": [
    "def init_weight(input_layer, hidden_layer, out_layer):\n",
    "    np.random.seed(2) \n",
    "    w1 = np.random.randn(hidden_layer, input_layer +1) \n",
    "    w2 = np.random.randn(out_layer, hidden_layer +1)\n",
    "    return w1,w2"
   ]
  },
  {
   "cell_type": "code",
   "execution_count": 6,
   "metadata": {},
   "outputs": [],
   "source": [
    "#vectorizando Y\n",
    "def create_Y(y, out_size, m):\n",
    "    yn = np.zeros((m, out_size))\n",
    "    for i in range(m):\n",
    "        yn[i][int(y[i])%10] = 1\n",
    "    return yn"
   ]
  },
  {
   "cell_type": "code",
   "execution_count": 32,
   "metadata": {},
   "outputs": [],
   "source": [
    "def matrix_conf(y_, y_pre, val):\n",
    "    matrix = np.zeros((val,val))\n",
    "    for i in range(y_pre.shape[0]):\n",
    "        k = int(y_[i]-1) #valores reales\n",
    "        l = int(y_pre[i]-1) #valores predichos\n",
    "        matrix[l][k] += 1\n",
    "    return matrix"
   ]
  },
  {
   "cell_type": "code",
   "execution_count": 8,
   "metadata": {},
   "outputs": [],
   "source": [
    "def compute_cost(a3, Y):\n",
    "    m = Y.shape[0] # 5000\n",
    "    temp = np.sum(Y * np.log(a3) + (1 - Y) * (np.log(1 - a3)), axis=1)\n",
    "    cost = (-1/m) * np.sum(temp, axis=0)\n",
    "    return cost"
   ]
  },
  {
   "cell_type": "code",
   "execution_count": 9,
   "metadata": {},
   "outputs": [],
   "source": [
    "def gradiente_prima(z):\n",
    "    gz = sigmoid(z)\n",
    "    return gz * (1-gz);"
   ]
  },
  {
   "cell_type": "markdown",
   "metadata": {},
   "source": [
    "### Forward"
   ]
  },
  {
   "cell_type": "code",
   "execution_count": 10,
   "metadata": {},
   "outputs": [],
   "source": [
    "def forward(x, t1, t2):\n",
    "    #capa1\n",
    "    a1 = np.c_[np.ones((x.shape[0],1)),x] \n",
    "    #capa2\n",
    "    z2 = np.dot(a1, t1.T)\n",
    "    a2= sigmoid(z2)\n",
    "    a2 = np.c_[np.ones((z2.shape[0],1)),a2] \n",
    "    #capa3\n",
    "    z3 = np.dot(a2,t2.T) \n",
    "    a3 = sigmoid(z3)\n",
    "    \n",
    "    result={'a1': a1, 'a2':a2, 'a3':a3, 'z2':z2, 'z3':z3}    \n",
    "    return result"
   ]
  },
  {
   "cell_type": "markdown",
   "metadata": {},
   "source": [
    "### Compute Gradiente"
   ]
  },
  {
   "cell_type": "code",
   "execution_count": 11,
   "metadata": {},
   "outputs": [],
   "source": [
    "def compute_gradient_reg(ford,t2, y_vec , m):\n",
    "    a1 = ford['a1']\n",
    "    a2 = ford['a2']\n",
    "    a3 = ford['a3']\n",
    "    z2 = ford['z2']\n",
    "    z3 = ford['z3']\n",
    "        \n",
    "    d3 = a3 - y_vec \n",
    "    d2 = np.dot(d3,t2) * gradiente_prima(np.c_[np.ones((z2.shape[0],1)),z2])\n",
    "    d2 = d2[:,1:] \n",
    "    \n",
    "    delta1 = np.dot(d2.T,a1)\n",
    "    delta2 = np.dot(d3.T,a2) \n",
    "    \n",
    "    grad1 = delta1/m\n",
    "    grad2 = delta2/m\n",
    "        \n",
    "    return grad1,grad2"
   ]
  },
  {
   "cell_type": "code",
   "execution_count": 17,
   "metadata": {},
   "outputs": [],
   "source": [
    "def session(x, y, hidden_layer, iterations):\n",
    "    input_layer = x.shape[1]\n",
    "    out_layer = y.shape[1] \n",
    "    m = x.shape[0]\n",
    "    rate = 1.5\n",
    "    \n",
    "    w1,w2 = init_weight(input_layer, hidden_layer, out_layer)\n",
    "    \n",
    "    for i in range(iterations):\n",
    "        ford = forward(x, w1, w2)\n",
    "        cost = compute_cost(ford['a3'], y) \n",
    "        grad1,grad2 = compute_gradient_reg(ford, w2, y,m) #backward\n",
    "        \n",
    "        w1 = w1 - rate * grad1\n",
    "        w2 = w2 - rate * grad2\n",
    "        \n",
    "        if i % 100 == 0:\n",
    "            print (i,\" iteracion con costo: \",cost)\n",
    "    return w1,w2"
   ]
  },
  {
   "cell_type": "code",
   "execution_count": 34,
   "metadata": {},
   "outputs": [
    {
     "name": "stdout",
     "output_type": "stream",
     "text": [
      "0  iteracion con costo:  15.798839856850712\n",
      "100  iteracion con costo:  1.234297050087826\n",
      "200  iteracion con costo:  0.9023178323822167\n",
      "300  iteracion con costo:  0.7398117518912719\n",
      "400  iteracion con costo:  0.6411855886371334\n",
      "500  iteracion con costo:  0.5713903206841736\n",
      "600  iteracion con costo:  0.517753563956345\n",
      "700  iteracion con costo:  0.4742257849468672\n",
      "800  iteracion con costo:  0.436798165068693\n",
      "900  iteracion con costo:  0.40418059375835047\n",
      "1000  iteracion con costo:  0.3761748598695956\n",
      "1100  iteracion con costo:  0.35200162503246685\n",
      "1200  iteracion con costo:  0.3310177717388724\n",
      "1300  iteracion con costo:  0.3125809067255506\n",
      "1400  iteracion con costo:  0.29618860000432473\n",
      "1500  iteracion con costo:  0.2814753916837179\n",
      "1600  iteracion con costo:  0.2682056725283301\n",
      "1700  iteracion con costo:  0.2561762040865273\n",
      "1800  iteracion con costo:  0.24516861327712414\n",
      "1900  iteracion con costo:  0.23499559026972858\n",
      "2000  iteracion con costo:  0.2255423397890966\n",
      "2100  iteracion con costo:  0.21676030444413674\n",
      "2200  iteracion con costo:  0.20862820592010517\n",
      "2300  iteracion con costo:  0.2010833319220362\n",
      "2400  iteracion con costo:  0.19404809487855854\n",
      "2500  iteracion con costo:  0.1874617330926811\n",
      "2600  iteracion con costo:  0.18128279835789357\n",
      "2700  iteracion con costo:  0.17547160734694123\n",
      "2800  iteracion con costo:  0.16997774543956598\n",
      "2900  iteracion con costo:  0.16474526457689248\n",
      "3000  iteracion con costo:  0.15973651616375636\n"
     ]
    }
   ],
   "source": [
    "Y_vec = create_Y(Y, 10, X.shape[0])\n",
    "W1,W2 = session(X, Y_vec, 25,3001)"
   ]
  },
  {
   "cell_type": "code",
   "execution_count": 20,
   "metadata": {},
   "outputs": [
    {
     "data": {
      "text/plain": [
       "array([[9.99542396e-01, 6.38537810e-06, 6.07722307e-05, ...,\n",
       "        4.19016589e-03, 2.46241833e-05, 8.04992846e-04],\n",
       "       [9.99601498e-01, 4.86269175e-06, 6.34309020e-05, ...,\n",
       "        6.44818303e-03, 2.82201151e-05, 4.92758673e-04],\n",
       "       [9.58805015e-01, 2.17251776e-05, 1.04313607e-04, ...,\n",
       "        2.83603010e-05, 1.01358620e-02, 9.29428240e-02],\n",
       "       ...,\n",
       "       [3.45241760e-07, 2.03140450e-01, 7.94978421e-05, ...,\n",
       "        2.90930624e-07, 1.06762217e-02, 6.61405322e-01],\n",
       "       [2.51054489e-07, 2.72335699e-04, 2.34584195e-08, ...,\n",
       "        2.83776383e-03, 3.17581239e-03, 8.70985313e-01],\n",
       "       [2.53486070e-02, 1.24279490e-05, 1.24018181e-02, ...,\n",
       "        2.27665996e-01, 6.46383062e-05, 7.47431624e-01]])"
      ]
     },
     "execution_count": 20,
     "metadata": {},
     "output_type": "execute_result"
    }
   ],
   "source": [
    "# Mi prediccion\n",
    "ford = forward(X, W1, W2)\n",
    "out = ford['a3']\n",
    "out"
   ]
  },
  {
   "cell_type": "code",
   "execution_count": 33,
   "metadata": {},
   "outputs": [
    {
     "data": {
      "text/plain": [
       "array([[494.,   1.,   0.,   1.,   0.,   1.,   2.,   0.,   1.,   0.],\n",
       "       [  1., 486.,   3.,   0.,   1.,   0.,   3.,   3.,   0.,   0.],\n",
       "       [  1.,   1., 480.,   0.,   8.,   0.,   1.,   5.,   2.,   1.],\n",
       "       [  0.,   2.,   0., 489.,   1.,   0.,   3.,   2.,   5.,   1.],\n",
       "       [  2.,   0.,   8.,   1., 478.,   2.,   0.,   4.,   1.,   0.],\n",
       "       [  0.,   3.,   1.,   2.,   1., 494.,   0.,   1.,   0.,   1.],\n",
       "       [  0.,   3.,   1.,   0.,   0.,   0., 488.,   1.,   3.,   1.],\n",
       "       [  2.,   2.,   3.,   0.,   7.,   1.,   2., 483.,   5.,   2.],\n",
       "       [  0.,   0.,   3.,   7.,   2.,   0.,   1.,   1., 479.,   0.],\n",
       "       [  0.,   2.,   1.,   0.,   2.,   2.,   0.,   0.,   4., 494.]])"
      ]
     },
     "execution_count": 33,
     "metadata": {},
     "output_type": "execute_result"
    }
   ],
   "source": [
    "result = np.argmax(out,axis=1).T #prediccion  \n",
    "matrix_conf(Y, result, 10)"
   ]
  },
  {
   "cell_type": "code",
   "execution_count": 22,
   "metadata": {},
   "outputs": [
    {
     "data": {
      "text/plain": [
       "87.42"
      ]
     },
     "execution_count": 22,
     "metadata": {},
     "output_type": "execute_result"
    }
   ],
   "source": [
    "porcent(result,Y)"
   ]
  },
  {
   "cell_type": "markdown",
   "metadata": {},
   "source": [
    "### Precision y Recall"
   ]
  },
  {
   "cell_type": "code",
   "execution_count": null,
   "metadata": {},
   "outputs": [],
   "source": [
    "#presicion"
   ]
  }
 ],
 "metadata": {
  "kernelspec": {
   "display_name": "Python 3",
   "language": "python",
   "name": "python3"
  },
  "language_info": {
   "codemirror_mode": {
    "name": "ipython",
    "version": 3
   },
   "file_extension": ".py",
   "mimetype": "text/x-python",
   "name": "python",
   "nbconvert_exporter": "python",
   "pygments_lexer": "ipython3",
   "version": "3.6.4"
  }
 },
 "nbformat": 4,
 "nbformat_minor": 2
}

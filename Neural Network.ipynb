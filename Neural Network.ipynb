{
 "cells": [
  {
   "cell_type": "markdown",
   "metadata": {},
   "source": [
    "## Neural Network"
   ]
  },
  {
   "cell_type": "code",
   "execution_count": 4,
   "metadata": {},
   "outputs": [],
   "source": [
    "import numpy as np\n",
    "import pandas as pd\n",
    "import matplotlib.pyplot as mpl\n",
    "from scipy import optimize\n",
    "import itertools\n",
    "import math"
   ]
  },
  {
   "cell_type": "code",
   "execution_count": 18,
   "metadata": {},
   "outputs": [],
   "source": [
    "X = np.loadtxt('xy/x.csv', delimiter=',')\n",
    "Y = np.loadtxt('xy/y.csv', delimiter=',')\n",
    "T1 = np.loadtxt('theta/theta1.csv', delimiter=',')\n",
    "T2 = np.loadtxt('theta/theta2.csv', delimiter=',')"
   ]
  },
  {
   "cell_type": "code",
   "execution_count": 3,
   "metadata": {},
   "outputs": [],
   "source": [
    "def sigmoid(a):\n",
    "    return 1.0 / (1 + np.exp(-a))"
   ]
  },
  {
   "cell_type": "code",
   "execution_count": 4,
   "metadata": {},
   "outputs": [],
   "source": [
    "def precision(res, y):\n",
    "    contador = 0\n",
    "    for i in range(res.shape[0]) :\n",
    "        if (res[i] == Y[i]):\n",
    "            contador +=1\n",
    "    \n",
    "    return (contador*100.0)/res.shape[0]"
   ]
  },
  {
   "cell_type": "code",
   "execution_count": 5,
   "metadata": {},
   "outputs": [],
   "source": [
    "def init_weight(input_layer, hidden_layer, out_layer):\n",
    "    w1 = np.random.randn(hidden_layer, input_layer) \n",
    "    w2 = np.random.randn(out_layer, hidden_layer )\n",
    "    #w1 = T1\n",
    "    #w2 = T2\n",
    "    return w1,w2"
   ]
  },
  {
   "cell_type": "code",
   "execution_count": 6,
   "metadata": {},
   "outputs": [],
   "source": [
    "#vectorizando Y\n",
    "def create_Y(y, out_size, m):\n",
    "    yn = np.zeros((m, out_size))\n",
    "    for i in range(m):\n",
    "        yn[i][int(y[i])%10] = 1\n",
    "    return yn"
   ]
  },
  {
   "cell_type": "code",
   "execution_count": 7,
   "metadata": {},
   "outputs": [],
   "source": [
    "def compute_cost(a3, Y):\n",
    "    m = Y.shape[0] # 5000\n",
    "    temp = np.sum(Y * np.log(a3) + (1 - Y) * (np.log(1 - a3)), axis=1)\n",
    "    cost = (-1/m) * np.sum(temp, axis=0)\n",
    "    return cost"
   ]
  },
  {
   "cell_type": "code",
   "execution_count": 8,
   "metadata": {},
   "outputs": [],
   "source": [
    "def gradiente_prima(z):\n",
    "    gz = sigmoid(z)\n",
    "    return gz * (1-gz);"
   ]
  },
  {
   "cell_type": "code",
   "execution_count": 16,
   "metadata": {},
   "outputs": [],
   "source": [
    "def matrix_conf(y_, y_pre, val):\n",
    "    matrix = np.zeros((val,val))\n",
    "    for i in range(y_pre.shape[0]):\n",
    "        k = int(y_[i]-1) #valores reales\n",
    "        l = int(y_pre[i]-1) #valores predichos\n",
    "        matrix[l][k] += 1\n",
    "    return matrix"
   ]
  },
  {
   "cell_type": "markdown",
   "metadata": {},
   "source": [
    "### Forward"
   ]
  },
  {
   "cell_type": "code",
   "execution_count": 10,
   "metadata": {},
   "outputs": [],
   "source": [
    "def forward(x, t1, t2):\n",
    "    #capa1\n",
    "    a1 = np.c_[np.ones((x.shape[0],1)),X] \n",
    "    #capa2\n",
    "    z2 = np.dot(a1, t1.T)\n",
    "    a2= sigmoid(z2)\n",
    "    #capa3\n",
    "    z3 = np.dot(a2,t2.T) \n",
    "    a3 = sigmoid(z3)\n",
    "    \n",
    "    result={'a1': a1, 'a2':a2, 'a3':a3, 'z2':z2, 'z3':z3}    \n",
    "    return result"
   ]
  },
  {
   "cell_type": "markdown",
   "metadata": {},
   "source": [
    "### Compute Gradiente"
   ]
  },
  {
   "cell_type": "code",
   "execution_count": 11,
   "metadata": {},
   "outputs": [],
   "source": [
    "def compute_gradient_reg(ford,t2, y_vec , m):\n",
    "    a1 = ford['a1']\n",
    "    a2 = ford['a2']\n",
    "    a3 = ford['a3']\n",
    "    z2 = ford['z2']\n",
    "    z3 = ford['z3']\n",
    "        \n",
    "    d3 = a3 - y_vec \n",
    "    d2 = np.dot(d3,t2) * gradiente_prima(z2)\n",
    "\n",
    "    delta1 = np.dot(d2.T,a1)\n",
    "    delta2 = np.dot(d3.T,a2) \n",
    "    \n",
    "    grad1 = delta1/m\n",
    "    grad2 = delta2/m\n",
    "        \n",
    "    return grad1,grad2"
   ]
  },
  {
   "cell_type": "code",
   "execution_count": 12,
   "metadata": {},
   "outputs": [],
   "source": [
    "def session(x, y, hidden_layer, iterations):\n",
    "    input_layer = x.shape[1]+1\n",
    "    out_layer = y.shape[1] \n",
    "    m = x.shape[0]\n",
    "    rate = 1.5\n",
    "    \n",
    "    w1,w2 = init_weight(input_layer, hidden_layer, out_layer)\n",
    "    \n",
    "    for i in range(iterations):\n",
    "        ford = forward(x, w1, w2)\n",
    "        cost = compute_cost(ford['a3'], y) \n",
    "        grad1,grad2 = compute_gradient_reg(ford, w2, y,m) #backward\n",
    "        \n",
    "        w1 = w1 - rate * grad1\n",
    "        w2 = w2 - rate * grad2\n",
    "        \n",
    "        if i % 100 == 0:\n",
    "            print (i,\" iteracion con costo: \",cost)\n",
    "\n",
    "    return w1,w2"
   ]
  },
  {
   "cell_type": "code",
   "execution_count": 13,
   "metadata": {},
   "outputs": [
    {
     "name": "stdout",
     "output_type": "stream",
     "text": [
      "0  iteracion con costo:  24.106996982617062\n",
      "100  iteracion con costo:  1.4205365132950785\n",
      "200  iteracion con costo:  1.0199516598974154\n",
      "300  iteracion con costo:  0.811649340716185\n",
      "400  iteracion con costo:  0.6914077175370696\n",
      "500  iteracion con costo:  0.6084495445040334\n",
      "600  iteracion con costo:  0.5463257327898332\n",
      "700  iteracion con costo:  0.4985191038594805\n",
      "800  iteracion con costo:  0.45992090740811964\n",
      "900  iteracion con costo:  0.42725695724444995\n",
      "1000  iteracion con costo:  0.3990645631642238\n",
      "1100  iteracion con costo:  0.3746591296329841\n",
      "1200  iteracion con costo:  0.3533460477176852\n",
      "1300  iteracion con costo:  0.33450551771576403\n",
      "1400  iteracion con costo:  0.3178035026197646\n",
      "1500  iteracion con costo:  0.3028124780467985\n",
      "1600  iteracion con costo:  0.2892741184079865\n",
      "1700  iteracion con costo:  0.2769777746257005\n",
      "1800  iteracion con costo:  0.2656925743343927\n",
      "1900  iteracion con costo:  0.2552098618631222\n",
      "2000  iteracion con costo:  0.24537319675215763\n",
      "2100  iteracion con costo:  0.23608385778739635\n",
      "2200  iteracion con costo:  0.22732718963709964\n",
      "2300  iteracion con costo:  0.2191335096700282\n",
      "2400  iteracion con costo:  0.21150613203930743\n",
      "2500  iteracion con costo:  0.2043885547405385\n",
      "2600  iteracion con costo:  0.1977259038442121\n",
      "2700  iteracion con costo:  0.19149326188200513\n",
      "2800  iteracion con costo:  0.18565969559283493\n",
      "2900  iteracion con costo:  0.18017466203427746\n",
      "3000  iteracion con costo:  0.1749834509491577\n"
     ]
    }
   ],
   "source": [
    "Y_vec = create_Y(Y, 10, X.shape[0])\n",
    "W1,W2 = session(X, Y_vec, 25,3001)"
   ]
  },
  {
   "cell_type": "code",
   "execution_count": 14,
   "metadata": {},
   "outputs": [],
   "source": [
    "ford = forward(X, W1, W2)\n",
    "out = ford['a3']"
   ]
  },
  {
   "cell_type": "code",
   "execution_count": 17,
   "metadata": {},
   "outputs": [
    {
     "data": {
      "text/plain": [
       "array([[494.,   0.,   1.,   0.,   1.,   0.,   3.,   2.,   0.,   0.],\n",
       "       [  1., 490.,   5.,   1.,   1.,   1.,   1.,   1.,   0.,   0.],\n",
       "       [  2.,   2., 484.,   0.,   2.,   0.,   1.,   1.,   5.,   0.],\n",
       "       [  0.,   2.,   1., 494.,   0.,   0.,   1.,   2.,   3.,   0.],\n",
       "       [  0.,   0.,   1.,   0., 494.,   4.,   0.,   0.,   0.,   1.],\n",
       "       [  0.,   1.,   1.,   0.,   1., 492.,   0.,   2.,   0.,   3.],\n",
       "       [  0.,   1.,   2.,   0.,   0.,   0., 494.,   0.,   1.,   0.],\n",
       "       [  2.,   3.,   4.,   0.,   0.,   1.,   0., 491.,   1.,   0.],\n",
       "       [  1.,   0.,   1.,   4.,   1.,   0.,   0.,   0., 487.,   0.],\n",
       "       [  0.,   1.,   0.,   1.,   0.,   2.,   0.,   1.,   3., 496.]])"
      ]
     },
     "execution_count": 17,
     "metadata": {},
     "output_type": "execute_result"
    }
   ],
   "source": [
    "Y_pre = np.argmax(out,axis=1).T \n",
    "matrix_conf(Y,Y_pre,10)"
   ]
  },
  {
   "cell_type": "code",
   "execution_count": 18,
   "metadata": {},
   "outputs": [
    {
     "data": {
      "text/plain": [
       "88.4"
      ]
     },
     "execution_count": 18,
     "metadata": {},
     "output_type": "execute_result"
    }
   ],
   "source": [
    "precision(Y_pre,Y)"
   ]
  },
  {
   "cell_type": "markdown",
   "metadata": {},
   "source": [
    "### Matrix Confusion"
   ]
  },
  {
   "cell_type": "code",
   "execution_count": 19,
   "metadata": {},
   "outputs": [],
   "source": [
    "def plot_confusion_matrix(cm, classes,\n",
    "                          normalize=False,\n",
    "                          title='Confusion matrix',\n",
    "                          cmap=mpl.cm.Blues):\n",
    "    if normalize:\n",
    "        cm = cm.astype('float') / cm.sum(axis=1)[:, np.newaxis]\n",
    "        \n",
    "    mpl.imshow(cm, interpolation='nearest', cmap=cmap)\n",
    "    mpl.title(title)\n",
    "    mpl.colorbar()\n",
    "    tick_marks = np.arange(len(classes))\n",
    "    mpl.xticks(tick_marks, classes, rotation=45)\n",
    "    mpl.yticks(tick_marks, classes)\n",
    "\n",
    "    fmt = '.2f' if normalize else 'd'\n",
    "    thresh = cm.max() / 2.\n",
    "    for i, j in itertools.product(range(cm.shape[0]), range(cm.shape[1])):\n",
    "        mpl.text(j, i, format(cm[i, j], fmt),\n",
    "                 horizontalalignment=\"center\",\n",
    "                 color=\"white\" if cm[i, j] > thresh else \"black\")\n",
    "\n",
    "    mpl.tight_layout()\n",
    "    mpl.ylabel('Valores Calculados')\n",
    "    mpl.xlabel('Valores Reales')"
   ]
  },
  {
   "cell_type": "code",
   "execution_count": 20,
   "metadata": {},
   "outputs": [
    {
     "data": {
      "image/png": "[encoded data removed]",
      "text/plain": [
       "<matplotlib.figure.Figure at 0x7f26e486bc18>"
      ]
     },
     "metadata": {},
     "output_type": "display_data"
    }
   ],
   "source": [
    "mat = np.zeros((10,10),dtype=int)\n",
    "result = np.argmax(out,axis=1).T #prediccion\n",
    "def conf_matr():\n",
    "    for i in range(len(result)):\n",
    "        k = int(Y[i]-1) #valores reales\n",
    "        l = int(result[i]-1) #valores predicho\n",
    "        mat[l][k] += 1        \n",
    "    names=['1', '2', '3', '4', '5', '6', '7', '8', '9', '10']\n",
    "    \n",
    "    mpl.figure()\n",
    "    plot_confusion_matrix(mat, classes=names,\n",
    "                          title='Matriz de confusion')\n",
    "    \n",
    "  #  mpl.figure()\n",
    "  #  plot_confusion_matrix(mat, classes=names, normalize=True,\n",
    "                          #title='Matriz de confusion normalizada')\n",
    "    \n",
    "conf_matr()"
   ]
  },
  {
   "cell_type": "code",
   "execution_count": 21,
   "metadata": {},
   "outputs": [
    {
     "name": "stdout",
     "output_type": "stream",
     "text": [
      "    Precision  Recall  F1 score\n",
      "1    0.986028   0.988  0.987013\n",
      "2    0.978044   0.980  0.979021\n",
      "3    0.973843   0.968  0.970913\n",
      "4    0.982107   0.988  0.985045\n",
      "5    0.988000   0.988  0.988000\n",
      "6    0.984000   0.984  0.984000\n",
      "7    0.991968   0.988  0.989980\n",
      "8    0.978088   0.982  0.980040\n",
      "9    0.985830   0.974  0.979879\n",
      "10   0.984127   0.992  0.988048\n"
     ]
    }
   ],
   "source": [
    "fn=500\n",
    "rpta=np.zeros((10,3))\n",
    "fp = np.sum(mat, axis=1)\n",
    "\n",
    "for i in range(10):\n",
    "    rpta[i,0]= mat[i][i]/fp[i]\n",
    "    rpta[i,1]= mat[i][i]/fn\n",
    "    rpta[i,2]= 2*(rpta[i,0]*rpta[i,1])/(rpta[i,0]+rpta[i,1])\n",
    "    \n",
    "    \n",
    "data = pd.DataFrame(rpta,columns=['Precision','Recall','F1 score'],index=['1','2','3','4','5','6','7','8','9','10'])\n",
    "print (data)\n"
   ]
  },
  {
   "cell_type": "markdown",
   "metadata": {},
   "source": [
    "### SVC"
   ]
  },
  {
   "cell_type": "code",
   "execution_count": 22,
   "metadata": {},
   "outputs": [],
   "source": [
    "from sklearn.svm import SVC"
   ]
  },
  {
   "cell_type": "code",
   "execution_count": 41,
   "metadata": {},
   "outputs": [
    {
     "data": {
      "text/plain": [
       "SVC(C=1.0, cache_size=200, class_weight=None, coef0=0.0,\n",
       "  decision_function_shape='ovr', degree=3, gamma=0.1, kernel='rbf',\n",
       "  max_iter=-1, probability=False, random_state=None, shrinking=True,\n",
       "  tol=0.001, verbose=False)"
      ]
     },
     "execution_count": 41,
     "metadata": {},
     "output_type": "execute_result"
    }
   ],
   "source": [
    "# C = 1\n",
    "clf = SVC(gamma = 0.1)\n",
    "clf.fit(X, Y.T)"
   ]
  },
  {
   "cell_type": "code",
   "execution_count": 27,
   "metadata": {},
   "outputs": [
    {
     "name": "stdout",
     "output_type": "stream",
     "text": [
      "<bound method BaseSVC.predict of SVC(C=1.0, cache_size=200, class_weight=None, coef0=0.0,\n",
      "  decision_function_shape='ovr', degree=3, gamma='auto', kernel='rbf',\n",
      "  max_iter=-1, probability=False, random_state=None, shrinking=True,\n",
      "  tol=0.001, verbose=False)>\n"
     ]
    }
   ],
   "source": [
    "print(clf.predict)"
   ]
  },
  {
   "cell_type": "code",
   "execution_count": 30,
   "metadata": {},
   "outputs": [],
   "source": [
    "sk_predic =clf.predict(X)"
   ]
  },
  {
   "cell_type": "code",
   "execution_count": 28,
   "metadata": {},
   "outputs": [
    {
     "data": {
      "text/plain": [
       "0.9212"
      ]
     },
     "execution_count": 28,
     "metadata": {},
     "output_type": "execute_result"
    }
   ],
   "source": [
    "clf.score(X,Y.T)"
   ]
  },
  {
   "cell_type": "code",
   "execution_count": 31,
   "metadata": {
    "scrolled": true
   },
   "outputs": [
    {
     "data": {
      "text/plain": [
       "array([[493.,  11.,   7.,   2.,   5.,   4.,  13.,  13.,   4.,   0.],\n",
       "       [  1., 442.,   8.,   5.,   2.,   1.,   5.,  11.,   2.,   2.],\n",
       "       [  0.,   3., 440.,   0.,  16.,   0.,   0.,  10.,   6.,   3.],\n",
       "       [  0.,   9.,   1., 470.,   5.,   7.,  11.,   2.,   9.,   1.],\n",
       "       [  5.,   2.,  25.,   1., 458.,   7.,   0.,  18.,   3.,   5.],\n",
       "       [  0.,   6.,   1.,   3.,   7., 478.,   0.,   8.,   1.,   2.],\n",
       "       [  1.,   5.,   7.,   0.,   0.,   0., 458.,   1.,  15.,   2.],\n",
       "       [  0.,  13.,   6.,   0.,   5.,   0.,   0., 429.,   0.,   2.],\n",
       "       [  0.,   1.,   4.,  19.,   1.,   0.,  12.,   8., 455.,   0.],\n",
       "       [  0.,   8.,   1.,   0.,   1.,   3.,   1.,   0.,   5., 483.]])"
      ]
     },
     "execution_count": 31,
     "metadata": {},
     "output_type": "execute_result"
    }
   ],
   "source": [
    "matrix_conf(Y,sk_predic,10)"
   ]
  },
  {
   "cell_type": "code",
   "execution_count": 44,
   "metadata": {},
   "outputs": [],
   "source": [
    "# Saco C y gamma con mayor score\n",
    "def take_best_score(x, y, valores): \n",
    "    scores = []\n",
    "    best_c = []\n",
    "    best_g = []       \n",
    "    for i in range(len(valores)): #C\n",
    "        for j in range(len(valores)): #gamma\n",
    "            clf = SVC(C = valores[i], gamma = valores[j]).fit(x , y) #train\n",
    "            sc  = clf.score(x, y) \n",
    "            print(\"Mi C=\",valores[i],\" mi gamma=\",valores[j],\" SCORE \",sc)\n",
    "            best_c.append(valores[i])\n",
    "            best_g.append(valores[j])\n",
    "            scores.append(sc)\n",
    "                  \n",
    "    return scores, best_c, best_g        "
   ]
  },
  {
   "cell_type": "code",
   "execution_count": 45,
   "metadata": {},
   "outputs": [
    {
     "name": "stdout",
     "output_type": "stream",
     "text": [
      "Mi C= 0.1  mi gamma= 0.1  SCORE  0.9268\n",
      "Mi C= 0.1  mi gamma= 0.3  SCORE  0.6532\n",
      "Mi C= 0.1  mi gamma= 0.7  SCORE  0.9322\n",
      "Mi C= 0.1  mi gamma= 1.0  SCORE  0.9318\n",
      "Mi C= 0.1  mi gamma= 5.0  SCORE  1.0\n",
      "Mi C= 0.1  mi gamma= 20.0  SCORE  1.0\n",
      "Mi C= 0.3  mi gamma= 0.1  SCORE  0.9816\n",
      "Mi C= 0.3  mi gamma= 0.3  SCORE  0.7312\n",
      "Mi C= 0.3  mi gamma= 0.7  SCORE  0.9758\n",
      "Mi C= 0.3  mi gamma= 1.0  SCORE  0.9562\n",
      "Mi C= 0.3  mi gamma= 5.0  SCORE  1.0\n",
      "Mi C= 0.3  mi gamma= 20.0  SCORE  1.0\n",
      "Mi C= 0.7  mi gamma= 0.1  SCORE  0.9958\n",
      "Mi C= 0.7  mi gamma= 0.3  SCORE  0.998\n",
      "Mi C= 0.7  mi gamma= 0.7  SCORE  1.0\n",
      "Mi C= 0.7  mi gamma= 1.0  SCORE  1.0\n",
      "Mi C= 0.7  mi gamma= 5.0  SCORE  1.0\n",
      "Mi C= 0.7  mi gamma= 20.0  SCORE  1.0\n",
      "Mi C= 1.0  mi gamma= 0.1  SCORE  0.9984\n",
      "Mi C= 1.0  mi gamma= 0.3  SCORE  1.0\n",
      "Mi C= 1.0  mi gamma= 0.7  SCORE  1.0\n",
      "Mi C= 1.0  mi gamma= 1.0  SCORE  1.0\n",
      "Mi C= 1.0  mi gamma= 5.0  SCORE  1.0\n",
      "Mi C= 1.0  mi gamma= 20.0  SCORE  1.0\n",
      "Mi C= 5.0  mi gamma= 0.1  SCORE  1.0\n",
      "Mi C= 5.0  mi gamma= 0.3  SCORE  1.0\n",
      "Mi C= 5.0  mi gamma= 0.7  SCORE  1.0\n",
      "Mi C= 5.0  mi gamma= 1.0  SCORE  1.0\n",
      "Mi C= 5.0  mi gamma= 5.0  SCORE  1.0\n",
      "Mi C= 5.0  mi gamma= 20.0  SCORE  1.0\n",
      "Mi C= 20.0  mi gamma= 0.1  SCORE  1.0\n",
      "Mi C= 20.0  mi gamma= 0.3  SCORE  1.0\n",
      "Mi C= 20.0  mi gamma= 0.7  SCORE  1.0\n",
      "Mi C= 20.0  mi gamma= 1.0  SCORE  1.0\n",
      "Mi C= 20.0  mi gamma= 5.0  SCORE  1.0\n",
      "Mi C= 20.0  mi gamma= 20.0  SCORE  1.0\n"
     ]
    }
   ],
   "source": [
    "scores = take_best_score(X,Y,[0.1,0.3,0.7,1.0,5.0,20.0])"
   ]
  },
  {
   "cell_type": "markdown",
   "metadata": {},
   "source": [
    "### K-means"
   ]
  },
  {
   "cell_type": "code",
   "execution_count": 16,
   "metadata": {},
   "outputs": [],
   "source": [
    "from sklearn.cluster import KMeans"
   ]
  },
  {
   "cell_type": "code",
   "execution_count": 24,
   "metadata": {},
   "outputs": [],
   "source": [
    "kmeans = KMeans(n_clusters=10, random_state=0).fit(X)"
   ]
  },
  {
   "cell_type": "code",
   "execution_count": 37,
   "metadata": {},
   "outputs": [
    {
     "data": {
      "text/plain": [
       "array([4, 4, 6, ..., 0, 2, 0], dtype=int32)"
      ]
     },
     "execution_count": 37,
     "metadata": {},
     "output_type": "execute_result"
    }
   ],
   "source": [
    "result = kmeans.labels_\n",
    "result"
   ]
  },
  {
   "cell_type": "code",
   "execution_count": 38,
   "metadata": {},
   "outputs": [
    {
     "data": {
      "text/plain": [
       "(5000,)"
      ]
     },
     "execution_count": 38,
     "metadata": {},
     "output_type": "execute_result"
    }
   ],
   "source": [
    "result.shape"
   ]
  },
  {
   "cell_type": "code",
   "execution_count": 31,
   "metadata": {},
   "outputs": [],
   "source": [
    "#kmeans.predict(X[1])"
   ]
  },
  {
   "cell_type": "markdown",
   "metadata": {},
   "source": [
    "## CRF conditional random fit..."
   ]
  },
  {
   "cell_type": "code",
   "execution_count": 11,
   "metadata": {},
   "outputs": [
    {
     "name": "stdout",
     "output_type": "stream",
     "text": [
      "[[0.4 0.3 0.3]\n",
      " [0.2 0.4 0.4]\n",
      " [0.3 0.5 0.2]]\n",
      "[0.27 0.44 0.29]\n",
      "[0.327 0.346 0.359]\n"
     ]
    }
   ],
   "source": [
    "mat = np.array ([[0.4,0.3,0.3],[0.2,0.4,0.4],[0.3,0.5,0.2]])\n",
    "xi = np.array([0.1,0.4,0.5])\n",
    "print(mat)\n",
    "mult = np.dot(xi,mat)\n",
    "print(mult)\n",
    "mult1= np.dot(mat,mult)\n",
    "print(mult1)"
   ]
  },
  {
   "cell_type": "code",
   "execution_count": 14,
   "metadata": {},
   "outputs": [
    {
     "name": "stdout",
     "output_type": "stream",
     "text": [
      "0 [0.27 0.44 0.29]\n",
      "1 [0.283 0.402 0.315]\n",
      "2 [0.2881 0.4032 0.3087]\n",
      "3 [0.28849 0.40206 0.30945]\n",
      "4 [0.288643 0.402096 0.309261]\n",
      "5 [0.2886547 0.4020618 0.3092835]\n",
      "6 [0.28865929 0.40206288 0.30927783]\n",
      "7 [0.28865964 0.40206185 0.30927851]\n",
      "8 [0.28865978 0.40206189 0.30927833]\n",
      "9 [0.28865979 0.40206186 0.30927836]\n"
     ]
    }
   ],
   "source": [
    "#cadenas de marcov\n",
    "mat = [[0.4,0.3,0.3],[0.2,0.4,0.4],[0.3,0.5,0.2]]\n",
    "xi = [0.1,0.4,0.5]\n",
    "\n",
    "for i in range(10):\n",
    "    mul= np.dot(xi,mat)\n",
    "    xi = mul\n",
    "    print(i,xi)\n"
   ]
  },
  {
   "cell_type": "code",
   "execution_count": 2,
   "metadata": {},
   "outputs": [],
   "source": [
    "import numpy as np\n",
    "import tensorflow as tf"
   ]
  },
  {
   "cell_type": "markdown",
   "metadata": {},
   "source": [
    "## CRF"
   ]
  },
  {
   "cell_type": "code",
   "execution_count": 3,
   "metadata": {},
   "outputs": [],
   "source": [
    "# Data settings.\n",
    "num_examples = 10\n",
    "num_words = 20\n",
    "num_features = 100\n",
    "num_tags = 5\n"
   ]
  },
  {
   "cell_type": "code",
   "execution_count": 4,
   "metadata": {},
   "outputs": [
    {
     "name": "stdout",
     "output_type": "stream",
     "text": [
      "Accuracy: 18.95%\n",
      "Accuracy: 57.89%\n",
      "Accuracy: 71.58%\n",
      "Accuracy: 74.74%\n",
      "Accuracy: 78.95%\n",
      "Accuracy: 82.11%\n",
      "Accuracy: 86.84%\n",
      "Accuracy: 87.89%\n",
      "Accuracy: 88.42%\n",
      "Accuracy: 88.95%\n"
     ]
    }
   ],
   "source": [
    "# Random features.\n",
    "x = np.random.rand(num_examples, num_words, num_features).astype(np.float32)\n",
    "\n",
    "# Random tag indices representing the gold sequence.\n",
    "y = np.random.randint(num_tags, size=[num_examples, num_words]).astype(np.int32)\n",
    "\n",
    "# All sequences in this example have the same length, but they can be variable in a real model.\n",
    "sequence_lengths = np.full(num_examples, num_words - 1, dtype=np.int32)\n",
    "\n",
    "# Train and evaluate the model.\n",
    "with tf.Graph().as_default():\n",
    "  with tf.Session() as session:\n",
    "    # Add the data to the TensorFlow graph.\n",
    "    x_t = tf.constant(x)\n",
    "    y_t = tf.constant(y)\n",
    "    sequence_lengths_t = tf.constant(sequence_lengths)\n",
    "\n",
    "    # Compute unary scores from a linear layer.\n",
    "    weights = tf.get_variable(\"weights\", [num_features, num_tags])\n",
    "    matricized_x_t = tf.reshape(x_t, [-1, num_features])\n",
    "    matricized_unary_scores = tf.matmul(matricized_x_t, weights)\n",
    "    unary_scores = tf.reshape(matricized_unary_scores,\n",
    "                              [num_examples, num_words, num_tags])\n",
    "\n",
    "    # Compute the log-likelihood of the gold sequences and keep the transition\n",
    "    # params for inference at test time.\n",
    "    log_likelihood, transition_params = tf.contrib.crf.crf_log_likelihood(\n",
    "        unary_scores, y_t, sequence_lengths_t)\n",
    "\n",
    "    # Compute the viterbi sequence and score.\n",
    "    viterbi_sequence, viterbi_score = tf.contrib.crf.crf_decode(\n",
    "        unary_scores, transition_params, sequence_lengths_t)\n",
    "\n",
    "    # Add a training op to tune the parameters.\n",
    "    loss = tf.reduce_mean(-log_likelihood)\n",
    "    train_op = tf.train.GradientDescentOptimizer(0.01).minimize(loss)\n",
    "\n",
    "    session.run(tf.global_variables_initializer())\n",
    "\n",
    "    mask = (np.expand_dims(np.arange(num_words), axis=0) <\n",
    "            np.expand_dims(sequence_lengths, axis=1))\n",
    "    total_labels = np.sum(sequence_lengths)\n",
    "\n",
    "    # Train for a fixed number of iterations.\n",
    "    for i in range(1000):\n",
    "      tf_viterbi_sequence, _ = session.run([viterbi_sequence, train_op])\n",
    "      if i % 100 == 0:\n",
    "        correct_labels = np.sum((y == tf_viterbi_sequence) * mask)\n",
    "        accuracy = 100.0 * correct_labels / float(total_labels)\n",
    "        print(\"Accuracy: %.2f%%\" % accuracy)"
   ]
  }
 ],
 "metadata": {
  "kernelspec": {
   "display_name": "Python 3",
   "language": "python",
   "name": "python3"
  },
  "language_info": {
   "codemirror_mode": {
    "name": "ipython",
    "version": 3
   },
   "file_extension": ".py",
   "mimetype": "text/x-python",
   "name": "python",
   "nbconvert_exporter": "python",
   "pygments_lexer": "ipython3",
   "version": "3.6.4"
  }
 },
 "nbformat": 4,
 "nbformat_minor": 2
}

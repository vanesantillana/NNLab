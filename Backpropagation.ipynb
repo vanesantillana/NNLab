{
 "cells": [
  {
   "cell_type": "code",
   "execution_count": 1,
   "metadata": {},
   "outputs": [],
   "source": [
    "#Importando librerias\n",
    "import numpy as np\n",
    "from scipy import optimize\n",
    "import pandas as pd"
   ]
  },
  {
   "cell_type": "code",
   "execution_count": 2,
   "metadata": {},
   "outputs": [],
   "source": [
    "#Leyendo los datos\n",
    "X = np.array(pd.read_csv('xy/x.csv',sep=',',header=None))\n",
    "Y = np.array(pd.read_csv('xy/y.csv',sep=',',header=None))\n",
    "theta1 = np.array(pd.read_csv('theta/theta1.csv',sep=',',header=None))\n",
    "theta2 = np.array(pd.read_csv('theta/theta2.csv',sep=',',header=None))"
   ]
  },
  {
   "cell_type": "code",
   "execution_count": 3,
   "metadata": {},
   "outputs": [],
   "source": [
    "def sigmoid(z):\n",
    "    return 1.0 / (1+np.exp(-z))"
   ]
  },
  {
   "cell_type": "code",
   "execution_count": 4,
   "metadata": {},
   "outputs": [],
   "source": [
    "def sigmoidGradient(z):\n",
    "    gz = sigmoid(z)\n",
    "    return gz * (1-gz);"
   ]
  },
  {
   "cell_type": "code",
   "execution_count": 5,
   "metadata": {},
   "outputs": [],
   "source": [
    "def forward(X,theta1,theta2) :\n",
    "    Xbias = np.c_[np.ones((X.shape[0],1)),X]\n",
    "    z1 = np.dot(Xbias,theta1.T)\n",
    "    a1 = sigmoid(z1)\n",
    "    \n",
    "    a1bias = np.c_[np.ones((a1.shape[0],1)),a1]\n",
    "    z2 = np.dot(a1bias,theta2.T)\n",
    "    a2 = sigmoid(z2)\n",
    "\n",
    "    return np.argmax(a2,axis=1).T"
   ]
  },
  {
   "cell_type": "code",
   "execution_count": 6,
   "metadata": {},
   "outputs": [],
   "source": [
    "# res: resultado de haber aplicado el forward,\n",
    "# Y: lo que debia haber marcado\n",
    "def calcularPrecision(res, Y):\n",
    "    contador = 0\n",
    "    for i in range(res.shape[0]) :\n",
    "        if ((res[i]+1) == Y[i,0]):\n",
    "            contador +=1\n",
    "    \n",
    "    print((contador*100.0)/res.shape[0])"
   ]
  },
  {
   "cell_type": "code",
   "execution_count": 7,
   "metadata": {},
   "outputs": [],
   "source": [
    "#Esta funcion retornará el costo y el gradiente\n",
    "def compute_gradient_reg(theta1, theta2, X, y):\n",
    "    m = X.shape[0]\n",
    "    a1 = np.c_[np.ones((m,1)),X]\n",
    "    \n",
    "    z2 = np.dot(a1,theta1.T)\n",
    "    a2 = np.c_[np.ones((z2.shape[0],1)),sigmoid(z2)]\n",
    "    \n",
    "    z3 = np.dot(a2,theta2.T)\n",
    "    a3 = sigmoid(z3)\n",
    "    \n",
    "    yNew = np.zeros(a3.shape)\n",
    "    for i in range(m):\n",
    "        yNew[i,y[i]%10] = 1    \n",
    "\n",
    "    d3 = a3 - yNew\n",
    "    d2 = np.dot(d3,theta2) * sigmoidGradient(np.c_[np.ones((z2.shape[0],1)),z2])\n",
    "    d2 = d2[:,1:]\n",
    "    \n",
    "    delta1 = np.dot(d2.T,a1)\n",
    "    delta2 = np.dot(d3.T,a2)\n",
    "    \n",
    "    grad1 = delta1/m\n",
    "    grad2 = delta2/m\n",
    "    grad = np.c_[grad1.reshape(1,grad1.size),grad2.reshape(1,grad2.size)].T\n",
    "    \n",
    "    return grad1,grad2"
   ]
  },
  {
   "cell_type": "code",
   "execution_count": 8,
   "metadata": {},
   "outputs": [],
   "source": [
    "def compute_cost_reg(theta1, theta2, X, y, parametroLambda):\n",
    "    m = X.shape[0]\n",
    "    a1 = np.c_[np.ones((m,1)),X]\n",
    "    \n",
    "    z2 = np.dot(a1,theta1.T)\n",
    "    a2 = np.c_[np.ones((z2.shape[0],1)),sigmoid(z2)]\n",
    "    \n",
    "    z3 = np.dot(a2,theta2.T)\n",
    "    a3 = sigmoid(z3)\n",
    "    \n",
    "    yNew = np.zeros(a3.shape)\n",
    "    for i in range(m):\n",
    "        yNew[i,y[i]%10] = 1\n",
    "    \n",
    "    h = a3\n",
    "    reg = np.sum(np.power(theta1[:,1:],2))+np.sum(np.power(theta2[:,1:],2))\n",
    "    J = (-np.sum(yNew * np.log(h)) - np.sum((1-yNew)* np.log(1-h)) + parametroLambda*reg/2)/m\n",
    "    \n",
    "    return J\n",
    "     "
   ]
  },
  {
   "cell_type": "code",
   "execution_count": 9,
   "metadata": {},
   "outputs": [
    {
     "name": "stdout",
     "output_type": "stream",
     "text": [
      "(25, 401)\n",
      "[[ 2.79735891e-02  0.00000000e+00  0.00000000e+00 ...  1.30777128e-06\n",
      "  -6.57607989e-08  0.00000000e+00]\n",
      " [ 5.54008990e-02  0.00000000e+00  0.00000000e+00 ... -1.41195676e-08\n",
      "  -3.23769408e-09  0.00000000e+00]\n",
      " [-5.03474149e-02  0.00000000e+00  0.00000000e+00 ...  1.06099077e-07\n",
      "  -1.07579151e-08  0.00000000e+00]\n",
      " ...\n",
      " [-4.05443337e-02  0.00000000e+00  0.00000000e+00 ...  1.04246805e-07\n",
      "  -9.77208218e-09  0.00000000e+00]\n",
      " [ 1.35098829e-03  0.00000000e+00  0.00000000e+00 ... -3.54938562e-06\n",
      "   2.70914200e-07  0.00000000e+00]\n",
      " [ 1.26176636e-02  0.00000000e+00  0.00000000e+00 ...  1.90723614e-07\n",
      "  -1.95289910e-08  0.00000000e+00]]\n"
     ]
    }
   ],
   "source": [
    "grad1,grad2 = compute_gradient_reg(theta1,theta2,X,Y)\n",
    "print( grad1.shape )\n",
    "print( grad1)"
   ]
  },
  {
   "cell_type": "code",
   "execution_count": 12,
   "metadata": {},
   "outputs": [
    {
     "name": "stdout",
     "output_type": "stream",
     "text": [
      "[9 9 9 ... 8 8 8]\n"
     ]
    }
   ],
   "source": [
    "print(forward(X,theta1,theta2))"
   ]
  },
  {
   "cell_type": "code",
   "execution_count": 13,
   "metadata": {},
   "outputs": [
    {
     "name": "stdout",
     "output_type": "stream",
     "text": [
      "97.52\n"
     ]
    }
   ],
   "source": [
    "calcularPrecision(forward(X,theta1,theta2),Y)"
   ]
  },
  {
   "cell_type": "code",
   "execution_count": null,
   "metadata": {},
   "outputs": [],
   "source": [
    "theta = optimize.fmin_cg(compute_cost_reg, fprime=compute_gradient_reg,\n",
    "                x0=Theta1, args=(x, y, lambda), maxiter=50)"
   ]
  },
  {
   "cell_type": "code",
   "execution_count": 37,
   "metadata": {},
   "outputs": [
    {
     "data": {
      "text/plain": [
       "(20,)"
      ]
     },
     "execution_count": 37,
     "metadata": {},
     "output_type": "execute_result"
    }
   ],
   "source": [
    "b = a.reshape(a.size)\n",
    "b.shape"
   ]
  },
  {
   "cell_type": "code",
   "execution_count": 96,
   "metadata": {},
   "outputs": [
    {
     "data": {
      "text/plain": [
       "(5000, 1)"
      ]
     },
     "execution_count": 96,
     "metadata": {},
     "output_type": "execute_result"
    }
   ],
   "source": [
    "Y.shape"
   ]
  },
  {
   "cell_type": "code",
   "execution_count": null,
   "metadata": {},
   "outputs": [],
   "source": []
  }
 ],
 "metadata": {
  "kernelspec": {
   "display_name": "Python 3",
   "language": "python",
   "name": "python3"
  },
  "language_info": {
   "codemirror_mode": {
    "name": "ipython",
    "version": 3
   },
   "file_extension": ".py",
   "mimetype": "text/x-python",
   "name": "python",
   "nbconvert_exporter": "python",
   "pygments_lexer": "ipython3",
   "version": "3.6.4"
  }
 },
 "nbformat": 4,
 "nbformat_minor": 2
}
